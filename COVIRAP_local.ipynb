{
  "nbformat": 4,
  "nbformat_minor": 0,
  "metadata": {
    "colab": {
      "name": "COVIRAP_local.ipynb",
      "provenance": [],
      "include_colab_link": true
    },
    "kernelspec": {
      "display_name": "Python 3",
      "language": "python",
      "name": "python3"
    },
    "language_info": {
      "codemirror_mode": {
        "name": "ipython",
        "version": 3
      },
      "file_extension": ".py",
      "mimetype": "text/x-python",
      "name": "python",
      "nbconvert_exporter": "python",
      "pygments_lexer": "ipython3",
      "version": "3.8.3"
    }
  },
  "cells": [
    {
      "cell_type": "markdown",
      "metadata": {
        "id": "view-in-github",
        "colab_type": "text"
      },
      "source": [
        "<a href=\"https://colab.research.google.com/github/Ankan05/GitLearningRepo/blob/master/COVIRAP_local.ipynb\" target=\"_parent\"><img src=\"https://colab.research.google.com/assets/colab-badge.svg\" alt=\"Open In Colab\"/></a>"
      ]
    },
    {
      "cell_type": "code",
      "metadata": {
        "id": "AwZgtNcV6Q9-"
      },
      "source": [
        "import pandas as pd\n",
        "import numpy as np\n",
        "import matplotlib.pyplot as plt\n",
        "import seaborn as sns\n",
        "\n",
        "from sklearn.preprocessing import LabelBinarizer , StandardScaler ,MinMaxScaler\n",
        "from sklearn.model_selection import train_test_split\n",
        "from sklearn.metrics import classification_report , accuracy_score,plot_confusion_matrix\n",
        "\n",
        "from xgboost import XGBClassifier, plot_importance\n",
        "from sklearn.linear_model import LogisticRegression , RidgeClassifier\n",
        "from sklearn.discriminant_analysis import LinearDiscriminantAnalysis\n",
        "from sklearn.model_selection import RepeatedStratifiedKFold\n",
        "from sklearn.neighbors import KNeighborsClassifier\n",
        "from sklearn.model_selection import GridSearchCV\n",
        "from sklearn.tree import DecisionTreeClassifier \n",
        "from sklearn.naive_bayes import GaussianNB\n",
        "from sklearn.svm import SVC\n",
        "from sklearn.metrics import confusion_matrix\n",
        "\n",
        "from sklearn.utils import resample\n",
        "from sklearn.ensemble import AdaBoostClassifier , GradientBoostingClassifier , VotingClassifier , RandomForestClassifier"
      ],
      "execution_count": 1,
      "outputs": []
    },
    {
      "cell_type": "markdown",
      "metadata": {
        "id": "swhZHYYfbPuh"
      },
      "source": [
        "# Preparing train-validation-test dataset"
      ]
    },
    {
      "cell_type": "code",
      "metadata": {
        "id": "U7NkKO7Hbd-F"
      },
      "source": [
        "data = pd.read_csv(\"data_new_without_abs.csv\")"
      ],
      "execution_count": 2,
      "outputs": []
    },
    {
      "cell_type": "code",
      "metadata": {
        "id": "DTO3Xfr3ktqF"
      },
      "source": [
        "#sns.pairplot(data)"
      ],
      "execution_count": 3,
      "outputs": []
    },
    {
      "cell_type": "code",
      "metadata": {
        "id": "KVfN0_JYa2Ev"
      },
      "source": [
        "# from scipy.stats import boxcox\n",
        "# from scipy.special import inv_boxcox\n",
        "\n",
        "# data_boxcox = data.copy()\n",
        "\n",
        "\n",
        "\n",
        "# to_convert = [i if i!=0 else 1 for i in data_boxcox[\"b Diff\"].values]\n",
        "# data_boxcox[\"b Diff\"], fitted_lambda= boxcox(to_convert,  lmbda=None)\n",
        "# inv_boxcox(data_boxcox[\"b Diff\"], fitted_lambda)\n",
        "# # data_boxcox[\"b Diff\"].hist()\n",
        "\n",
        "# to_convert = [i if i!=0 else 1 for i in data_boxcox[\"g Diff\"].values]\n",
        "# data_boxcox[\"g Diff\"], fitted_lambda= boxcox(to_convert,  lmbda=None)\n",
        "# inv_boxcox(data_boxcox[\"g Diff\"], fitted_lambda)\n",
        "# # data_boxcox[\"g Diff\"].hist()\n",
        "\n",
        "# to_convert = [i if i!=0 else 1 for i in data_boxcox[\"r Diff\"].values]\n",
        "# data_boxcox[\"r Diff\"], fitted_lambda= boxcox(to_convert,  lmbda=None)\n",
        "# inv_boxcox(data_boxcox[\"r Diff\"], fitted_lambda)\n",
        "# # data_boxcox[\"r Diff\"].hist()\n",
        "\n",
        "# to_convert = [i if i!=0 else 1 for i in data_boxcox[\"b after\"].values]\n",
        "# data_boxcox[\"b after\"], fitted_lambda= boxcox(to_convert,  lmbda=None)\n",
        "# inv_boxcox(data_boxcox[\"b after\"], fitted_lambda)\n",
        "# # data_boxcox[\"b after\"].hist()\n",
        "\n",
        "\n",
        "# to_convert = [i if i!=0 else 1 for i in data_boxcox[\"g after\"].values]\n",
        "# data_boxcox[\"g after\"], fitted_lambda= boxcox(to_convert, lmbda=None)\n",
        "# inv_boxcox(data_boxcox[\"g after\"], fitted_lambda)\n",
        "# # data_boxcox[\"g after\"].hist()\n",
        "\n",
        "\n",
        "# to_convert = [i if i!=0 else 1 for i in data_boxcox[\"r after\"].values]\n",
        "# data_boxcox[\"r after\"], fitted_lambda= boxcox(to_convert, lmbda=None)\n",
        "# inv_boxcox(data_boxcox[\"r after\"], fitted_lambda)\n",
        "# # data_boxcox[\"r after\"].hist()\n",
        "\n",
        "\n",
        "\n",
        "# to_convert = [i if i!=0 else 1 for i in data_boxcox[\"Diff ANC b\"].values]\n",
        "# data_boxcox[\"Diff ANC b\"],fitted_lambda= boxcox(to_convert,lmbda=None)\n",
        "# inv_boxcox(data_boxcox[\"Diff ANC b\"],fitted_lambda)\n",
        "# # data_boxcox[\"Diff ANC b\"].hist()\n",
        "# # plt.show()\n",
        "\n",
        "\n",
        "# to_convert = [i if i!=0 else 1 for i in data_boxcox[\"Diff ANC g\"].values]\n",
        "# data_boxcox[\"Diff ANC g\"],fitted_lambda= boxcox(to_convert,lmbda=None)\n",
        "# inv_boxcox(data_boxcox[\"Diff ANC g\"],fitted_lambda)\n",
        "# # data_boxcox[\"Diff ANC g\"].hist()\n",
        "# # plt.show()\n",
        "\n",
        "\n",
        "# to_convert = [i if i!=0 else 1 for i in data_boxcox[\"Diff ANC r\"].values]\n",
        "# data_boxcox[\"Diff ANC r\"],fitted_lambda= boxcox(to_convert,lmbda=None)\n",
        "# inv_boxcox(data_boxcox[\"Diff ANC r\"],fitted_lambda)\n",
        "# # data_boxcox[\"Diff ANC r\"].hist()\n",
        "# # plt.show()\n",
        "\n",
        "# to_convert = [i if i!=0 else 1 for i in data_boxcox[\"Diff APC b\"].values]\n",
        "# data_boxcox[\"Diff APC b\"],fitted_lambda= boxcox(to_convert,lmbda=None)\n",
        "# inv_boxcox(data_boxcox[\"Diff APC b\"],fitted_lambda)\n",
        "# # data_boxcox[\"Diff APC b\"].hist()\n",
        "# # plt.show()\n",
        "\n",
        "# to_convert = [i if i!=0 else 1 for i in data_boxcox[\"Diff APC g\"].values]\n",
        "# data_boxcox[\"Diff APC g\"],fitted_lambda= boxcox(to_convert,lmbda=None)\n",
        "# inv_boxcox(data_boxcox[\"Diff APC g\"],fitted_lambda)\n",
        "# # data_boxcox[\"Diff APC g\"].hist()\n",
        "# # plt.show()\n",
        "\n",
        "# to_convert = [i if i!=0 else 1 for i in data_boxcox[\"Diff APC r\"].values]\n",
        "# data_boxcox[\"Diff APC r\"],fitted_lambda= boxcox(to_convert,lmbda=None)\n",
        "# inv_boxcox(data_boxcox[\"Diff APC r\"],fitted_lambda)\n",
        "# # data_boxcox[\"Diff APC r\"].hist()\n",
        "# # plt.show()\n",
        "\n",
        "# to_convert = [i if i!=0 else 1 for i in data_boxcox[\"Diff BPC b\"].values]\n",
        "# data_boxcox[\"Diff BPC b\"],fitted_lambda= boxcox(to_convert,lmbda=None)\n",
        "# inv_boxcox(data_boxcox[\"Diff BPC b\"],fitted_lambda)\n",
        "# # data_boxcox[\"Diff BPC b\"].hist()\n",
        "# # plt.show()\n",
        "\n",
        "# to_convert = [i if i!=0 else 1 for i in data_boxcox[\"Diff BPC g\"].values]\n",
        "# data_boxcox[\"Diff BPC g\"],fitted_lambda= boxcox(to_convert,lmbda=None)\n",
        "# inv_boxcox(data_boxcox[\"Diff BPC g\"],fitted_lambda)\n",
        "# # data_boxcox[\"Diff BPC g\"].hist()\n",
        "# # plt.show()\n",
        "\n",
        "# to_convert = [i if i!=0 else 1 for i in data_boxcox[\"Diff BPC r\"].values]\n",
        "# data_boxcox[\"Diff BPC r\"],fitted_lambda= boxcox(to_convert,lmbda=None)\n",
        "# inv_boxcox(data_boxcox[\"Diff BPC r\"],fitted_lambda)\n",
        "# # data_boxcox[\"Diff BPC r\"].hist()\n",
        "# # plt.show()\n",
        "\n",
        "# to_convert = [i if i!=0 else 1 for i in data_boxcox[\"Diff BNC b\"].values]\n",
        "# data_boxcox[\"Diff BNC b\"],fitted_lambda= boxcox(to_convert,lmbda=None)\n",
        "# inv_boxcox(data_boxcox[\"Diff BNC b\"],fitted_lambda)\n",
        "# # data_boxcox[\"Diff BNC b\"].hist()\n",
        "# # plt.show()\n",
        "\n",
        "\n",
        "# to_convert = [i if i!=0 else 1 for i in data_boxcox[\"Diff BNC g\"].values]\n",
        "# data_boxcox[\"Diff BNC g\"],fitted_lambda= boxcox(to_convert,lmbda=None)\n",
        "# inv_boxcox(data_boxcox[\"Diff BNC g\"],fitted_lambda)\n",
        "# # data_boxcox[\"Diff BNC g\"].hist()\n",
        "# # plt.show()\n",
        "\n",
        "\n",
        "# to_convert = [i if i!=0 else 1 for i in data_boxcox[\"Diff BNC r\"].values]\n",
        "# data_boxcox[\"Diff BNC r\"],fitted_lambda= boxcox(to_convert,lmbda=None)\n",
        "# inv_boxcox(data_boxcox[\"Diff BNC r\"],fitted_lambda)\n",
        "# # data_boxcox[\"Diff BNC r\"].hist()\n",
        "# # plt.show()"
      ],
      "execution_count": 4,
      "outputs": []
    },
    {
      "cell_type": "code",
      "metadata": {
        "colab": {
          "base_uri": "https://localhost:8080/"
        },
        "id": "n7bBSJtvbyf1",
        "outputId": "5b0c80fd-74bb-409e-dab8-52ae5dc03f98"
      },
      "source": [
        "X = data.drop([\"Result\"],axis=1)\n",
        "Y = data[\"Result\"]\n",
        "X_train_val,X_test_orig,y_train_val,y_test_orig =train_test_split(X,Y,test_size=0.40,random_state=0,stratify=Y)\n",
        "X_train_orig,X_val_orig,y_train_orig,y_val_orig =train_test_split(X_train_val,y_train_val,test_size=0.25,random_state=0,stratify=y_train_val)\n",
        "print('training :->',len(X_train_orig),';','validation :->',len(X_val_orig),';','testing :->',len(X_test_orig))"
      ],
      "execution_count": 5,
      "outputs": [
        {
          "output_type": "stream",
          "text": [
            "training :-> 444 ; validation :-> 148 ; testing :-> 396\n"
          ],
          "name": "stdout"
        }
      ]
    },
    {
      "cell_type": "code",
      "metadata": {
        "id": "IwW0xEs3cydP"
      },
      "source": [
        "data_train = X_train_orig.copy()\n",
        "data_train['Result']=y_train_orig\n",
        "data_train.to_csv('train.csv')\n",
        "\n",
        "data_val = X_val_orig.copy()\n",
        "data_val['Result']=y_val_orig\n",
        "data_val.to_csv('val.csv')\n",
        "\n",
        "data_test = X_test_orig.copy()\n",
        "data_test['Result']=y_test_orig\n",
        "data_test.to_csv('test.csv')"
      ],
      "execution_count": 6,
      "outputs": []
    },
    {
      "cell_type": "markdown",
      "metadata": {
        "id": "Rr-m4qMzUC-Q"
      },
      "source": [
        "# Loading training, validation and test dataset\n"
      ]
    },
    {
      "cell_type": "code",
      "metadata": {
        "id": "Z4r3vRn580I2"
      },
      "source": [
        "train = pd.read_csv(\"train.csv\")\n",
        "val = pd.read_csv(\"val.csv\")\n",
        "test = pd.read_csv(\"test.csv\")"
      ],
      "execution_count": 7,
      "outputs": []
    },
    {
      "cell_type": "code",
      "metadata": {
        "colab": {
          "base_uri": "https://localhost:8080/",
          "height": 315
        },
        "id": "1xyaIav6_Cy1",
        "outputId": "fbb54207-2668-4a2e-9b70-994ac77c258d"
      },
      "source": [
        "print(\"Count of Negative class: \",list(train[\"Result\"]).count(0))\n",
        "print(\"Count of Positive class: \",list(train[\"Result\"]).count(1))\n",
        "train[\"Result\"].hist()"
      ],
      "execution_count": 8,
      "outputs": [
        {
          "output_type": "stream",
          "text": [
            "Count of Negative class:  340\n",
            "Count of Positive class:  104\n"
          ],
          "name": "stdout"
        },
        {
          "output_type": "execute_result",
          "data": {
            "text/plain": [
              "<matplotlib.axes._subplots.AxesSubplot at 0x7f53524f0390>"
            ]
          },
          "metadata": {
            "tags": []
          },
          "execution_count": 8
        },
        {
          "output_type": "display_data",
          "data": {
            "image/png": "[encoded data removed]",
            "text/plain": [
              "<Figure size 432x288 with 1 Axes>"
            ]
          },
          "metadata": {
            "tags": [],
            "needs_background": "light"
          }
        }
      ]
    },
    {
      "cell_type": "markdown",
      "metadata": {
        "id": "vfNi9tZ_USdQ"
      },
      "source": [
        "# Upsampling the training dataset\n",
        "\n",
        "\n"
      ]
    },
    {
      "cell_type": "code",
      "metadata": {
        "colab": {
          "base_uri": "https://localhost:8080/"
        },
        "id": "Fb3-zc2J_g6l",
        "outputId": "9e15e568-9560-4d02-f9c5-092bbc6dbf1b"
      },
      "source": [
        "data_bal = train.copy()\n",
        "\n",
        "#Getting seperated data with 1 and 0 status.\n",
        "df_majority = data_bal[data_bal.Result==0]\n",
        "df_minority = data_bal[data_bal.Result==1]\n",
        "\n",
        "# df_majority_downsampled = resample(df_majority,replace=True,n_samples=list(train[\"Result\"]).count(1),random_state=123)\n",
        "# df_downsampled = pd.concat([df_majority_downsampled,df_minority])\n",
        "# print(\"downsampled data:->\\n\",df_downsampled.Result.value_counts())\n",
        "\n",
        "# #Here we are upsampling the Minority Class Data Points. \n",
        "# #i.e. We will get equal amount of datapoint as Majority class from Minority class\n",
        "df_minority_upsampled = resample(df_minority,replace=True,n_samples=list(train[\"Result\"]).count(0),random_state=123)\n",
        "df_upsampled = pd.concat([df_majority,df_minority_upsampled])\n",
        "print(\"Upsampled data:->\\n\",df_upsampled.Result.value_counts())"
      ],
      "execution_count": 9,
      "outputs": [
        {
          "output_type": "stream",
          "text": [
            "Upsampled data:->\n",
            " 1    340\n",
            "0    340\n",
            "Name: Result, dtype: int64\n"
          ],
          "name": "stdout"
        }
      ]
    },
    {
      "cell_type": "markdown",
      "metadata": {
        "id": "y8RIldulVBWp"
      },
      "source": [
        "# Testing on different classifiers"
      ]
    },
    {
      "cell_type": "code",
      "metadata": {
        "colab": {
          "base_uri": "https://localhost:8080/"
        },
        "id": "wQWVK01e_fwd",
        "scrolled": true,
        "outputId": "38b3906c-c1b0-4754-b8e1-61d215960020"
      },
      "source": [
        "# X_train = df_upsampled.drop([\"Result\"],axis=1)\n",
        "# Y_train = df_upsampled[\"Result\"]\n",
        "# X_val = val.drop([\"Result\"],axis=1)\n",
        "# Y_val = val[\"Result\"]\n",
        "\n",
        "X_train = df_upsampled.drop([\"Result\",\"r after\",\"Diff ANC r\",\"Diff APC r\",\"Diff BNC b\",\"Diff BNC g\",\"Diff BNC r\",\"Diff BPC b\",\"Diff BPC r\"],axis=1)\n",
        "Y_train = df_upsampled[\"Result\"]\n",
        "X_val = val.drop([\"Result\",\"r after\",\"Diff ANC r\",\"Diff APC r\",\"Diff BNC b\",\"Diff BNC g\",\"Diff BNC r\",\"Diff BPC b\",\"Diff BPC r\"],axis=1)\n",
        "Y_val = val[\"Result\"]\n",
        "\n",
        "models = []\n",
        "models.append((\"XGB\",XGBClassifier()))\n",
        "models.append((\"RF\",RandomForestClassifier()))\n",
        "models.append((\"DT\",DecisionTreeClassifier()))\n",
        "models.append((\"ADB\",AdaBoostClassifier()))\n",
        "models.append((\"GB\",GradientBoostingClassifier()))\n",
        "\n",
        "ensemble = VotingClassifier(estimators=models)\n",
        "ensemble.fit(X_train,Y_train)\n",
        "Y_pred = ensemble.predict(X_val) \n",
        "print(classification_report(Y_pred,Y_val))\n",
        "print(\"Voting Ensemble:>\",accuracy_score(Y_pred,Y_val))\n",
        "\n",
        "\n",
        "\n",
        "# SVM = SVC(kernel=\"linear\",class_weight=\"balanced\",probability=True)\n",
        "# SVM.fit(X_train,Y_train)\n",
        "# Y_pred = SVM.predict(X_val)\n",
        "# print(classification_report(Y_pred,Y_val))\n",
        "# print(\"SVM:>\",accuracy_score(Y_pred,Y_val))\n",
        "\n",
        "\n",
        "XGBC = XGBClassifier(learning_rate =0.1, n_estimators=100000, max_depth=7, min_child_weight=0.1, gamma=0, subsample=0.6, colsample_bytree=0.8,\n",
        " reg_alpha=0.005, objective= 'binary:logistic', nthread=2, scale_pos_weight=1, seed=27)\n",
        "XGBC.fit(X_train,Y_train)\n",
        "Y_pred = XGBC.predict(X_val)\n",
        "print(classification_report(Y_pred,Y_val))\n",
        "print(\"XGBoost:>\",accuracy_score(Y_pred,Y_val))\n",
        "\n",
        "\n",
        "RF = RandomForestClassifier(n_estimators=1000,random_state=0,n_jobs=1000,max_depth=70,class_weight=\"balanced\",bootstrap=True)\n",
        "RF.fit(X_train,Y_train)\n",
        "Y_pred = RF.predict(X_val)\n",
        "print(classification_report(Y_pred,Y_val))\n",
        "print(\"RandomForestClassifier:>\",accuracy_score(Y_pred,Y_val))\n",
        "\n",
        "\n",
        "Model2 = GradientBoostingClassifier(random_state=0)\n",
        "Model2.fit(X_train,Y_train)\n",
        "Y_pred = Model2.predict(X_val)\n",
        "print(classification_report(Y_pred,Y_val))\n",
        "print(\"GradientBoostingClassifier:>\",accuracy_score(Y_pred,Y_val))\n",
        "\n",
        "\n",
        "Model3 = DecisionTreeClassifier(class_weight=None, criterion='gini', max_depth=100,\n",
        " max_features=1.0, max_leaf_nodes=10,\n",
        " min_impurity_split=1e-07, min_samples_leaf=1,\n",
        " min_samples_split=2, min_weight_fraction_leaf=0.10,\n",
        " presort=False, random_state=27, splitter='best')\n",
        "Model3.fit(X_train,Y_train)\n",
        "Y_pred = Model3.predict(X_val)\n",
        "print(classification_report(Y_pred,Y_val))\n",
        "print(\"DecisionTreeClassifier:>\",accuracy_score(Y_pred,Y_val))\n",
        "\n",
        "\n",
        "Model4 = AdaBoostClassifier()\n",
        "Model4.fit(X_train,Y_train)\n",
        "Y_pred = Model4.predict(X_val)\n",
        "print(classification_report(Y_pred,Y_val))\n",
        "print(\"AdaBoostClassifier:>\",accuracy_score(Y_pred,Y_val))\n",
        "val\n",
        "\n",
        "Model5 = LinearDiscriminantAnalysis()\n",
        "Model5.fit(X_train,Y_train)\n",
        "Y_pred = Model5.predict(X_val)\n",
        "print(classification_report(Y_pred,Y_val))\n",
        "print(\"LinearDiscriminantAnalysis:>\",accuracy_score(Y_pred,Y_val))\n",
        "\n",
        "KNN = KNeighborsClassifier(leaf_size=1,p=2,n_neighbors=20)\n",
        "KNN.fit(X_train,Y_train)\n",
        "Y_pred = KNN.predict(X_val)\n",
        "print(classification_report(Y_pred,Y_val))\n",
        "print(\"KNeighborsClassifier:>\",accuracy_score(Y_pred,Y_val))\n",
        "\n",
        "\n",
        "Model7 = GaussianNB()\n",
        "Model7.fit(X_train,Y_train)\n",
        "Y_pred = Model7.predict(X_val)\n",
        "print(classification_report(Y_pred,Y_val))\n",
        "print(\"GaussianNB:>\",accuracy_score(Y_pred,Y_val))\n",
        "\n",
        "\n",
        "Model8 = LogisticRegression(C=1.0, class_weight=None, dual=False, fit_intercept=True,\n",
        "          intercept_scaling=1, max_iter=100, multi_class='ovr', n_jobs=1,\n",
        "          penalty='l2', random_state=None, solver='liblinear', tol=0.0001,\n",
        "          verbose=0, warm_start=False)\n",
        "Model8.fit(X_train,Y_train)\n",
        "Y_pred = Model8.predict(X_val)\n",
        "print(classification_report(Y_pred,Y_val))\n",
        "print(\"Logistic Regression:>\",accuracy_score(Y_pred,Y_val))\n"
      ],
      "execution_count": 10,
      "outputs": [
        {
          "output_type": "stream",
          "text": [
            "              precision    recall  f1-score   support\n",
            "\n",
            "           0       0.86      0.91      0.88       107\n",
            "           1       0.71      0.61      0.66        41\n",
            "\n",
            "    accuracy                           0.82       148\n",
            "   macro avg       0.79      0.76      0.77       148\n",
            "weighted avg       0.82      0.82      0.82       148\n",
            "\n",
            "Voting Ensemble:> 0.8243243243243243\n",
            "              precision    recall  f1-score   support\n",
            "\n",
            "           0       0.88      0.90      0.89       111\n",
            "           1       0.69      0.65      0.67        37\n",
            "\n",
            "    accuracy                           0.84       148\n",
            "   macro avg       0.79      0.77      0.78       148\n",
            "weighted avg       0.84      0.84      0.84       148\n",
            "\n",
            "XGBoost:> 0.8378378378378378\n",
            "              precision    recall  f1-score   support\n",
            "\n",
            "           0       0.86      0.88      0.87       110\n",
            "           1       0.63      0.58      0.60        38\n",
            "\n",
            "    accuracy                           0.80       148\n",
            "   macro avg       0.74      0.73      0.74       148\n",
            "weighted avg       0.80      0.80      0.80       148\n",
            "\n",
            "RandomForestClassifier:> 0.8040540540540541\n",
            "              precision    recall  f1-score   support\n",
            "\n",
            "           0       0.84      0.91      0.88       104\n",
            "           1       0.74      0.59      0.66        44\n",
            "\n",
            "    accuracy                           0.82       148\n",
            "   macro avg       0.79      0.75      0.77       148\n",
            "weighted avg       0.81      0.82      0.81       148\n",
            "\n",
            "GradientBoostingClassifier:> 0.8175675675675675\n",
            "              precision    recall  f1-score   support\n",
            "\n",
            "           0       0.68      0.95      0.79        81\n",
            "           1       0.89      0.46      0.61        67\n",
            "\n",
            "    accuracy                           0.73       148\n",
            "   macro avg       0.78      0.71      0.70       148\n",
            "weighted avg       0.77      0.73      0.71       148\n",
            "\n",
            "DecisionTreeClassifier:> 0.7297297297297297\n"
          ],
          "name": "stdout"
        },
        {
          "output_type": "stream",
          "text": [
            "/usr/local/lib/python3.7/dist-packages/sklearn/tree/_classes.py:301: FutureWarning: The min_impurity_split parameter is deprecated. Its default value will change from 1e-7 to 0 in version 0.23, and it will be removed in 0.25. Use the min_impurity_decrease parameter instead.\n",
            "  FutureWarning)\n",
            "/usr/local/lib/python3.7/dist-packages/sklearn/tree/_classes.py:319: FutureWarning: The parameter 'presort' is deprecated and has no effect. It will be removed in v0.24. You can suppress this warning by not passing any value to the 'presort' parameter.\n",
            "  FutureWarning)\n"
          ],
          "name": "stderr"
        },
        {
          "output_type": "stream",
          "text": [
            "              precision    recall  f1-score   support\n",
            "\n",
            "           0       0.87      0.95      0.91       103\n",
            "           1       0.86      0.67      0.75        45\n",
            "\n",
            "    accuracy                           0.86       148\n",
            "   macro avg       0.86      0.81      0.83       148\n",
            "weighted avg       0.86      0.86      0.86       148\n",
            "\n",
            "AdaBoostClassifier:> 0.8648648648648649\n",
            "              precision    recall  f1-score   support\n",
            "\n",
            "           0       0.79      0.94      0.86        95\n",
            "           1       0.83      0.55      0.66        53\n",
            "\n",
            "    accuracy                           0.80       148\n",
            "   macro avg       0.81      0.74      0.76       148\n",
            "weighted avg       0.80      0.80      0.79       148\n",
            "\n",
            "LinearDiscriminantAnalysis:> 0.7972972972972973\n",
            "              precision    recall  f1-score   support\n",
            "\n",
            "           0       0.74      0.91      0.82        92\n",
            "           1       0.77      0.48      0.59        56\n",
            "\n",
            "    accuracy                           0.75       148\n",
            "   macro avg       0.76      0.70      0.71       148\n",
            "weighted avg       0.75      0.75      0.73       148\n",
            "\n",
            "KNeighborsClassifier:> 0.75\n",
            "              precision    recall  f1-score   support\n",
            "\n",
            "           0       0.73      0.92      0.81        89\n",
            "           1       0.80      0.47      0.60        59\n",
            "\n",
            "    accuracy                           0.74       148\n",
            "   macro avg       0.76      0.70      0.70       148\n",
            "weighted avg       0.76      0.74      0.73       148\n",
            "\n",
            "GaussianNB:> 0.7432432432432432\n",
            "              precision    recall  f1-score   support\n",
            "\n",
            "           0       0.80      0.94      0.86        96\n",
            "           1       0.83      0.56      0.67        52\n",
            "\n",
            "    accuracy                           0.80       148\n",
            "   macro avg       0.81      0.75      0.76       148\n",
            "weighted avg       0.81      0.80      0.79       148\n",
            "\n",
            "Logistic Regression:> 0.8040540540540541\n"
          ],
          "name": "stdout"
        }
      ]
    },
    {
      "cell_type": "markdown",
      "metadata": {
        "id": "zJOzb1rYZG--"
      },
      "source": [
        " # Testing on the test dataset\n",
        "\n",
        "\n"
      ]
    },
    {
      "cell_type": "code",
      "metadata": {
        "colab": {
          "base_uri": "https://localhost:8080/",
          "height": 759
        },
        "id": "U5VASuDbTzRB",
        "outputId": "73b37de6-6253-4451-d493-2470283c03f8"
      },
      "source": [
        "# X_train = train.drop([\"Result\"],axis=1)\n",
        "# Y_train = train[\"Result\"]\n",
        "# X_test = test.drop([\"Result\"],axis=1)\n",
        "# Y_test = test[\"Result\"]\n",
        "\n",
        "\n",
        "X_train = df_upsampled.drop([\"Result\",\"r after\",\"Diff ANC r\",\"Diff APC r\",\"Diff BNC b\",\"Diff BNC g\",\"Diff BNC r\",\"Diff BPC b\",\"Diff BPC r\"],axis=1)\n",
        "Y_train = df_upsampled[\"Result\"]\n",
        "X_test = test.drop([\"Result\",\"r after\",\"Diff ANC r\",\"Diff APC r\",\"Diff BNC b\",\"Diff BNC g\",\"Diff BNC r\",\"Diff BPC b\",\"Diff BPC r\"],axis=1)\n",
        "Y_test = test[\"Result\"]\n",
        "\n",
        "\n",
        "#XGBR = XGBClassifier(learning_rate =0.1,n_estimators=100000,max_depth=6,min_child_weight=6,gamma=0,subsample=0.6,colsample_bytree=0.8,\n",
        " #reg_alpha=0.005, objective= 'binary:logistic', nthread=2, scale_pos_weight=1, seed=27)\n",
        "\n",
        "#XGBR.fit(X_train,Y_train)\n",
        "\n",
        "#Y_pred = XGBR.predict(X_test)\n",
        "\n",
        "#print(classification_report(Y_pred,Y_test))\n",
        "\n",
        "#print(\"accuracy_score:->\",accuracy_score(Y_pred,Y_test))\n",
        "\n",
        "#print(confusion_matrix(Y_pred,Y_test))\n",
        "\n",
        "\n",
        "RF = RandomForestClassifier(n_estimators=80,random_state=0,n_jobs=1000,max_depth=100,class_weight=\"balanced\",bootstrap=True)\n",
        "RF.fit(X_train,Y_train)\n",
        "Y_pred = RF.predict(X_test)\n",
        "print(classification_report(Y_pred,Y_test))\n",
        "print(\"RandomForestClassifier:>\",accuracy_score(Y_pred,Y_test))\n",
        "print(confusion_matrix(Y_pred,Y_test))\n",
        "\n",
        "\n",
        "# Model2 = GradientBoostingClassifier(random_state=0)\n",
        "# Model2.fit(X_train,Y_train)\n",
        "# Y_pred = Model2.predict(X_test)\n",
        "# print(classification_report(Y_pred,Y_test))\n",
        "# print(classification_report(Y_pred,Y_test))\n",
        "# print(\"GradientBoostingClassifier:>\",accuracy_score(Y_pred,Y_test))\n",
        "\n",
        "\n",
        "\n",
        "plot_confusion_matrix(RF,X_test,Y_test,display_labels=[\"Negative\",\"Positive\"],cmap=plt.cm.Blues)\n",
        "plot_confusion_matrix(RF,X_test,Y_test,display_labels=[\"Negative\",\"Positive\"],cmap=plt.cm.Blues,normalize='true')"
      ],
      "execution_count": 11,
      "outputs": [
        {
          "output_type": "stream",
          "text": [
            "              precision    recall  f1-score   support\n",
            "\n",
            "           0       0.86      0.91      0.88       288\n",
            "           1       0.71      0.61      0.66       108\n",
            "\n",
            "    accuracy                           0.83       396\n",
            "   macro avg       0.79      0.76      0.77       396\n",
            "weighted avg       0.82      0.83      0.82       396\n",
            "\n",
            "RandomForestClassifier:> 0.8257575757575758\n",
            "[[261  27]\n",
            " [ 42  66]]\n"
          ],
          "name": "stdout"
        },
        {
          "output_type": "execute_result",
          "data": {
            "text/plain": [
              "<sklearn.metrics._plot.confusion_matrix.ConfusionMatrixDisplay at 0x7f53513a4390>"
            ]
          },
          "metadata": {
            "tags": []
          },
          "execution_count": 11
        },
        {
          "output_type": "display_data",
          "data": {
            "image/png": "[encoded data removed]",
            "text/plain": [
              "<Figure size 432x288 with 2 Axes>"
            ]
          },
          "metadata": {
            "tags": [],
            "needs_background": "light"
          }
        },
        {
          "output_type": "display_data",
          "data": {
            "image/png": "[encoded data removed]",
            "text/plain": [
              "<Figure size 432x288 with 2 Axes>"
            ]
          },
          "metadata": {
            "tags": [],
            "needs_background": "light"
          }
        }
      ]
    },
    {
      "cell_type": "code",
      "metadata": {
        "colab": {
          "base_uri": "https://localhost:8080/"
        },
        "id": "i_NcIqIrktqL",
        "outputId": "276b5a9c-93e6-434f-a2d7-4428e07acbf6"
      },
      "source": [
        "\n",
        "weights = np.linspace(0.05, 0.95, 20)\n",
        "gsc = GridSearchCV(\n",
        "    estimator=RandomForestClassifier(),\n",
        "    param_grid={\n",
        "        'class_weight': [{0: x, 1: 1.0-x} for x in weights]\n",
        "    },\n",
        "    scoring='f1',\n",
        "    cv=5\n",
        ")\n",
        "\n",
        "grid_result = gsc.fit(X_train, Y_train)\n",
        "print(\"Best parameters : %s\" % grid_result.best_params_)"
      ],
      "execution_count": 12,
      "outputs": [
        {
          "output_type": "stream",
          "text": [
            "Best parameters : {'class_weight': {0: 0.14473684210526316, 1: 0.8552631578947368}}\n"
          ],
          "name": "stdout"
        }
      ]
    },
    {
      "cell_type": "code",
      "metadata": {
        "colab": {
          "base_uri": "https://localhost:8080/",
          "height": 296
        },
        "id": "abSQFxuiktqL",
        "outputId": "30e422c5-f520-4e3a-da68-73206bfe301d"
      },
      "source": [
        "data_out = pd.DataFrame({'score': grid_result.cv_results_['mean_test_score'],\n",
        "                       'weight': weights })\n",
        "data_out.plot(x='weight')"
      ],
      "execution_count": 13,
      "outputs": [
        {
          "output_type": "execute_result",
          "data": {
            "text/plain": [
              "<matplotlib.axes._subplots.AxesSubplot at 0x7f515b052cd0>"
            ]
          },
          "metadata": {
            "tags": []
          },
          "execution_count": 13
        },
        {
          "output_type": "display_data",
          "data": {
            "image/png": "[encoded data removed]",
            "text/plain": [
              "<Figure size 432x288 with 1 Axes>"
            ]
          },
          "metadata": {
            "tags": [],
            "needs_background": "light"
          }
        }
      ]
    },
    {
      "cell_type": "code",
      "metadata": {
        "id": "0CUNxzfQulw7"
      },
      "source": [
        "#data_out"
      ],
      "execution_count": 14,
      "outputs": []
    },
    {
      "cell_type": "code",
      "metadata": {
        "id": "pLuM5S_iuw0Y"
      },
      "source": [
        "X_train = train.drop([\"Result\",\"r after\",\"Diff ANC r\",\"Diff APC r\",\"Diff BNC b\",\"Diff BNC g\",\"Diff BNC r\",\"Diff BPC b\",\"Diff BPC r\"],axis=1)\n",
        "Y_train = train[\"Result\"]\n",
        "X_test = test.drop([\"Result\",\"r after\",\"Diff ANC r\",\"Diff APC r\",\"Diff BNC b\",\"Diff BNC g\",\"Diff BNC r\",\"Diff BPC b\",\"Diff BPC r\"],axis=1)\n",
        "Y_test = test[\"Result\"]\n",
        "clf =RandomForestClassifier(**grid_result.best_params_).fit(X_train, Y_train)"
      ],
      "execution_count": 15,
      "outputs": []
    },
    {
      "cell_type": "code",
      "metadata": {
        "id": "sDhc-lNhu2Qn"
      },
      "source": [
        "Y_pred = clf.predict(X_test)"
      ],
      "execution_count": 16,
      "outputs": []
    },
    {
      "cell_type": "code",
      "metadata": {
        "colab": {
          "base_uri": "https://localhost:8080/",
          "height": 762
        },
        "id": "HS6Y_ewGu68U",
        "outputId": "adbb25e5-6b40-4d0a-e1c6-db56e1221822"
      },
      "source": [
        "print(classification_report(Y_pred,Y_test))\n",
        "print(\"RandomForestClassifier:>\",accuracy_score(Y_pred,Y_test))\n",
        "print(confusion_matrix(Y_pred,Y_test))\n",
        "plot_confusion_matrix(clf,X_test,Y_test,display_labels=[\"Negative\",\"Positive\"],cmap=plt.cm.Blues)\n",
        "plot_confusion_matrix(clf,X_test,Y_test,display_labels=[\"Negative\",\"Positive\"],cmap=plt.cm.Blues,normalize='true')"
      ],
      "execution_count": 17,
      "outputs": [
        {
          "output_type": "stream",
          "text": [
            "              precision    recall  f1-score   support\n",
            "\n",
            "           0       0.91      0.88      0.89       314\n",
            "           1       0.58      0.66      0.62        82\n",
            "\n",
            "    accuracy                           0.83       396\n",
            "   macro avg       0.74      0.77      0.75       396\n",
            "weighted avg       0.84      0.83      0.83       396\n",
            "\n",
            "RandomForestClassifier:> 0.8308080808080808\n",
            "[[275  39]\n",
            " [ 28  54]]\n"
          ],
          "name": "stdout"
        },
        {
          "output_type": "execute_result",
          "data": {
            "text/plain": [
              "<sklearn.metrics._plot.confusion_matrix.ConfusionMatrixDisplay at 0x7f515af18910>"
            ]
          },
          "metadata": {
            "tags": []
          },
          "execution_count": 17
        },
        {
          "output_type": "display_data",
          "data": {
            "image/png": "[encoded data removed]",
            "text/plain": [
              "<Figure size 432x288 with 2 Axes>"
            ]
          },
          "metadata": {
            "tags": [],
            "needs_background": "light"
          }
        },
        {
          "output_type": "display_data",
          "data": {
            "image/png": "[encoded data removed]",
            "text/plain": [
              "<Figure size 432x288 with 2 Axes>"
            ]
          },
          "metadata": {
            "tags": [],
            "needs_background": "light"
          }
        }
      ]
    }
  ]
}